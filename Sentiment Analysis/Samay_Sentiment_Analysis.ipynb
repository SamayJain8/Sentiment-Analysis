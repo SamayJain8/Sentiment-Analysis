{
  "nbformat": 4,
  "nbformat_minor": 0,
  "metadata": {
    "colab": {
      "provenance": []
    },
    "kernelspec": {
      "name": "python3",
      "display_name": "Python 3"
    },
    "language_info": {
      "name": "python"
    }
  },
  "cells": [
    {
      "cell_type": "code",
      "execution_count": 2,
      "metadata": {
        "id": "o4YKvoCHH492"
      },
      "outputs": [],
      "source": [
        "from keras.preprocessing.text import Tokenizer\n",
        "from keras.utils import pad_sequences\n",
        "from keras import Sequential\n",
        "from keras.utils import to_categorical\n",
        "from keras.layers import Dense,SimpleRNN,Embedding,Flatten\n",
        "import numpy as np\n",
        "import pandas as pd"
      ]
    },
    {
      "cell_type": "code",
      "source": [
        "train_ds = pd.read_csv('/content/train.csv',encoding='latin1');\n",
        "validation_ds = pd.read_csv('/content/test.csv',encoding='latin1');"
      ],
      "metadata": {
        "id": "RVWYv827JMGu"
      },
      "execution_count": 3,
      "outputs": []
    },
    {
      "cell_type": "code",
      "source": [
        "train_ds = train_ds[['text','sentiment']]\n",
        "validation_ds = validation_ds[['text','sentiment']]"
      ],
      "metadata": {
        "id": "7nKujw0fJf2Y"
      },
      "execution_count": 4,
      "outputs": []
    },
    {
      "cell_type": "code",
      "source": [
        "train_ds['text'].fillna('',inplace=True)\n",
        "validation_ds['text'].fillna('',inplace=True)"
      ],
      "metadata": {
        "id": "shLlfiVPJiaN"
      },
      "execution_count": 5,
      "outputs": []
    },
    {
      "cell_type": "code",
      "source": [
        "def func(sentiment):\n",
        "    if sentiment =='positive':\n",
        "        return 0;\n",
        "    elif sentiment =='negative':\n",
        "        return 1;\n",
        "    else:\n",
        "        return 2;\n",
        "train_ds['sentiment'] = train_ds['sentiment'].apply(func)\n",
        "validation_ds['sentiment'] = validation_ds['sentiment'].apply(func)"
      ],
      "metadata": {
        "id": "jJrDKVX1JkHO"
      },
      "execution_count": 6,
      "outputs": []
    },
    {
      "cell_type": "code",
      "source": [
        "x_train = np.array(train_ds['text'].tolist())\n",
        "y_train = np.array(train_ds['sentiment'].tolist())\n",
        "x_test = np.array(validation_ds['text'].tolist())\n",
        "y_test = np.array(validation_ds['sentiment'].tolist())"
      ],
      "metadata": {
        "id": "1viJiEAKJlsi"
      },
      "execution_count": 7,
      "outputs": []
    },
    {
      "cell_type": "code",
      "source": [
        "x_train"
      ],
      "metadata": {
        "colab": {
          "base_uri": "https://localhost:8080/"
        },
        "id": "MLeQmfdtJpzm",
        "outputId": "966f670e-47ee-4f3e-fdc1-5c24c8c5285c"
      },
      "execution_count": 8,
      "outputs": [
        {
          "output_type": "execute_result",
          "data": {
            "text/plain": [
              "array([' I`d have responded, if I were going',\n",
              "       ' Sooo SAD I will miss you here in San Diego!!!',\n",
              "       'my boss is bullying me...', ...,\n",
              "       ' Yay good for both of you. Enjoy the break - you probably need it after such hectic weekend  Take care hun xxxx',\n",
              "       ' But it was worth it  ****.',\n",
              "       '   All this flirting going on - The ATG smiles. Yay.  ((hugs))'],\n",
              "      dtype='<U159')"
            ]
          },
          "metadata": {},
          "execution_count": 8
        }
      ]
    },
    {
      "cell_type": "code",
      "source": [
        "y_train"
      ],
      "metadata": {
        "colab": {
          "base_uri": "https://localhost:8080/"
        },
        "id": "_TONv7sfJrqO",
        "outputId": "4de7e03c-845b-4750-fa53-21faca8bdc94"
      },
      "execution_count": 9,
      "outputs": [
        {
          "output_type": "execute_result",
          "data": {
            "text/plain": [
              "array([2, 1, 1, ..., 0, 0, 2])"
            ]
          },
          "metadata": {},
          "execution_count": 9
        }
      ]
    },
    {
      "cell_type": "code",
      "source": [
        "y_train = to_categorical(y_train, 3)\n",
        "y_test = to_categorical(y_test, 3)"
      ],
      "metadata": {
        "id": "oTzSsj63Jt5O"
      },
      "execution_count": 10,
      "outputs": []
    },
    {
      "cell_type": "code",
      "source": [
        "y_train"
      ],
      "metadata": {
        "colab": {
          "base_uri": "https://localhost:8080/"
        },
        "id": "YEnTyqU6JwAC",
        "outputId": "018ee0e0-4688-4670-ab09-12e205846d45"
      },
      "execution_count": 11,
      "outputs": [
        {
          "output_type": "execute_result",
          "data": {
            "text/plain": [
              "array([[0., 0., 1.],\n",
              "       [0., 1., 0.],\n",
              "       [0., 1., 0.],\n",
              "       ...,\n",
              "       [1., 0., 0.],\n",
              "       [1., 0., 0.],\n",
              "       [0., 0., 1.]], dtype=float32)"
            ]
          },
          "metadata": {},
          "execution_count": 11
        }
      ]
    },
    {
      "cell_type": "code",
      "source": [
        "tokenizer = Tokenizer(num_words=20000)"
      ],
      "metadata": {
        "id": "Q2CwDPWuJxYj"
      },
      "execution_count": 12,
      "outputs": []
    },
    {
      "cell_type": "code",
      "source": [
        "tokenizer.fit_on_texts(x_train)\n",
        "tokenizer.fit_on_texts(x_test)"
      ],
      "metadata": {
        "id": "BlofeHG0Jzeq"
      },
      "execution_count": 13,
      "outputs": []
    },
    {
      "cell_type": "code",
      "source": [
        "len(tokenizer.word_index)"
      ],
      "metadata": {
        "colab": {
          "base_uri": "https://localhost:8080/"
        },
        "id": "N9273psSJ0_L",
        "outputId": "6d44599f-564f-430d-834e-dd0c0581c87b"
      },
      "execution_count": 14,
      "outputs": [
        {
          "output_type": "execute_result",
          "data": {
            "text/plain": [
              "28614"
            ]
          },
          "metadata": {},
          "execution_count": 14
        }
      ]
    },
    {
      "cell_type": "code",
      "source": [
        "x_train = tokenizer.texts_to_sequences(x_train)\n",
        "x_test = tokenizer.texts_to_sequences(x_test)"
      ],
      "metadata": {
        "id": "ONMtMaH0J2qU"
      },
      "execution_count": 15,
      "outputs": []
    },
    {
      "cell_type": "code",
      "source": [
        "from keras.utils import pad_sequences\n",
        "x_train = pad_sequences(x_train, padding='post', maxlen=35)  # Set maxlen to 35\n",
        "x_test = pad_sequences(x_test, padding='post', maxlen=35)"
      ],
      "metadata": {
        "id": "yitrNquJJ448"
      },
      "execution_count": 16,
      "outputs": []
    },
    {
      "cell_type": "code",
      "source": [
        "x_train[0]"
      ],
      "metadata": {
        "colab": {
          "base_uri": "https://localhost:8080/"
        },
        "id": "KnAJy5NlJ7A3",
        "outputId": "fb428bbf-7ae6-4139-9b92-998950dbe61d"
      },
      "execution_count": 17,
      "outputs": [
        {
          "output_type": "execute_result",
          "data": {
            "text/plain": [
              "array([   1,  162,   19, 7713,   71,    1,  151,   49,    0,    0,    0,\n",
              "          0,    0,    0,    0,    0,    0,    0,    0,    0,    0,    0,\n",
              "          0,    0,    0,    0,    0,    0,    0,    0,    0,    0,    0,\n",
              "          0,    0], dtype=int32)"
            ]
          },
          "metadata": {},
          "execution_count": 17
        }
      ]
    },
    {
      "cell_type": "code",
      "source": [
        "x_train.shape"
      ],
      "metadata": {
        "colab": {
          "base_uri": "https://localhost:8080/"
        },
        "id": "N3qqekktJ-w4",
        "outputId": "596d40a2-d215-43df-8f30-ed0e995b474d"
      },
      "execution_count": 18,
      "outputs": [
        {
          "output_type": "execute_result",
          "data": {
            "text/plain": [
              "(27481, 35)"
            ]
          },
          "metadata": {},
          "execution_count": 18
        }
      ]
    },
    {
      "cell_type": "code",
      "source": [
        "model = Sequential()\n",
        "model.add(Embedding(input_dim=20000, output_dim=5, input_length=35))\n",
        "model.add(SimpleRNN(32,return_sequences=False))\n",
        "model.add(Dense(3,activation='softmax'))\n",
        "model.summary()"
      ],
      "metadata": {
        "colab": {
          "base_uri": "https://localhost:8080/"
        },
        "id": "FbBWNNYkJ_Gk",
        "outputId": "615404b9-2509-48a8-a15a-e9f5759f73d7"
      },
      "execution_count": 19,
      "outputs": [
        {
          "output_type": "stream",
          "name": "stdout",
          "text": [
            "Model: \"sequential\"\n",
            "_________________________________________________________________\n",
            " Layer (type)                Output Shape              Param #   \n",
            "=================================================================\n",
            " embedding (Embedding)       (None, 35, 5)             100000    \n",
            "                                                                 \n",
            " simple_rnn (SimpleRNN)      (None, 32)                1216      \n",
            "                                                                 \n",
            " dense (Dense)               (None, 3)                 99        \n",
            "                                                                 \n",
            "=================================================================\n",
            "Total params: 101315 (395.76 KB)\n",
            "Trainable params: 101315 (395.76 KB)\n",
            "Non-trainable params: 0 (0.00 Byte)\n",
            "_________________________________________________________________\n"
          ]
        }
      ]
    },
    {
      "cell_type": "code",
      "source": [
        "model.compile(optimizer='adam', loss='categorical_crossentropy', metrics=['accuracy'])"
      ],
      "metadata": {
        "id": "v_uKRng4KA5_"
      },
      "execution_count": 20,
      "outputs": []
    },
    {
      "cell_type": "code",
      "source": [
        "history = model.fit(x_train, y_train, epochs=10, validation_data=(x_test, y_test))\n"
      ],
      "metadata": {
        "colab": {
          "base_uri": "https://localhost:8080/"
        },
        "id": "d1r7TXysKDDK",
        "outputId": "92e79d18-3e7d-4fa1-af97-ca8f43009a3a"
      },
      "execution_count": 21,
      "outputs": [
        {
          "output_type": "stream",
          "name": "stdout",
          "text": [
            "Epoch 1/10\n",
            "859/859 [==============================] - 13s 12ms/step - loss: 0.9375 - accuracy: 0.5380 - val_loss: 0.7038 - val_accuracy: 0.7360\n",
            "Epoch 2/10\n",
            "859/859 [==============================] - 10s 12ms/step - loss: 0.6829 - accuracy: 0.7140 - val_loss: 0.6196 - val_accuracy: 0.7645\n",
            "Epoch 3/10\n",
            "859/859 [==============================] - 9s 10ms/step - loss: 0.5526 - accuracy: 0.7843 - val_loss: 0.6094 - val_accuracy: 0.7728\n",
            "Epoch 4/10\n",
            "859/859 [==============================] - 10s 12ms/step - loss: 0.4529 - accuracy: 0.8326 - val_loss: 0.6080 - val_accuracy: 0.7516\n",
            "Epoch 5/10\n",
            "859/859 [==============================] - 10s 12ms/step - loss: 0.3784 - accuracy: 0.8679 - val_loss: 0.6683 - val_accuracy: 0.7531\n",
            "Epoch 6/10\n",
            "859/859 [==============================] - 10s 12ms/step - loss: 0.3256 - accuracy: 0.8895 - val_loss: 0.7162 - val_accuracy: 0.7466\n",
            "Epoch 7/10\n",
            "859/859 [==============================] - 10s 11ms/step - loss: 0.2729 - accuracy: 0.9108 - val_loss: 0.8187 - val_accuracy: 0.7362\n",
            "Epoch 8/10\n",
            "859/859 [==============================] - 9s 11ms/step - loss: 0.2503 - accuracy: 0.9166 - val_loss: 0.8229 - val_accuracy: 0.7373\n",
            "Epoch 9/10\n",
            "859/859 [==============================] - 11s 13ms/step - loss: 0.2215 - accuracy: 0.9290 - val_loss: 0.8496 - val_accuracy: 0.7369\n",
            "Epoch 10/10\n",
            "859/859 [==============================] - 11s 12ms/step - loss: 0.2027 - accuracy: 0.9348 - val_loss: 0.8778 - val_accuracy: 0.7310\n"
          ]
        }
      ]
    },
    {
      "cell_type": "code",
      "source": [
        "import matplotlib.pyplot as plt\n",
        "plt.plot(history.history['accuracy'])\n",
        "plt.plot(history.history['val_accuracy'])\n",
        "plt.show()"
      ],
      "metadata": {
        "colab": {
          "base_uri": "https://localhost:8080/",
          "height": 431
        },
        "id": "XS9neVxJKFjG",
        "outputId": "e4439a6b-d52d-44f5-a2c8-e7d082250f19"
      },
      "execution_count": 22,
      "outputs": [
        {
          "output_type": "display_data",
          "data": {
            "text/plain": [
              "<Figure size 640x480 with 1 Axes>"
            ],
            "image/png": "[encoded data removed]"
          },
          "metadata": {}
        }
      ]
    },
    {
      "cell_type": "code",
      "source": [
        "# Prediction Sample\n",
        "text = \"The movie was bad bad bad, i will not recommend this movie to anyone\"\n",
        "\n",
        "new_text_seq = tokenizer.texts_to_sequences([text])\n",
        "new_text_padded = pad_sequences(new_text_seq, padding='post', maxlen=35)  # Use the max_len determined during training\n",
        "predictions = model.predict(new_text_padded)\n",
        "predicted_class_index = predictions.argmax(axis=-1)\n",
        "if predicted_class_index[0] == 0:\n",
        "    print(\"Postive Sentiment\");\n",
        "elif predicted_class_index[0] == 1:\n",
        "    print(\"Negative Sentiment\")\n",
        "else:\n",
        "    print(\"Neutral Sentiment\")"
      ],
      "metadata": {
        "colab": {
          "base_uri": "https://localhost:8080/"
        },
        "id": "MDU_EQFbKg32",
        "outputId": "4231293f-1860-40d2-ea91-4234828048a8"
      },
      "execution_count": 23,
      "outputs": [
        {
          "output_type": "stream",
          "name": "stdout",
          "text": [
            "1/1 [==============================] - 0s 187ms/step\n",
            "Negative Sentiment\n"
          ]
        }
      ]
    },
    {
      "cell_type": "code",
      "source": [
        "# Prediction 2\n",
        "\n",
        "text = \"The movie was good, i will recommend this movie to anyone\"\n",
        "\n",
        "new_text_seq = tokenizer.texts_to_sequences([text])\n",
        "new_text_padded = pad_sequences(new_text_seq, padding='post', maxlen=35)  # Use the max_len determined during training\n",
        "predictions = model.predict(new_text_padded)\n",
        "predicted_class_index = predictions.argmax(axis=-1)\n",
        "if predicted_class_index[0] == 0:\n",
        "    print(\"Postive Sentiment\");\n",
        "elif predicted_class_index[0] == 1:\n",
        "    print(\"Negative Sentiment\")\n",
        "else:\n",
        "    print(\"Neutral Sentiment\")"
      ],
      "metadata": {
        "colab": {
          "base_uri": "https://localhost:8080/"
        },
        "id": "gd2iq_1YKpDS",
        "outputId": "77ab4697-85f2-494f-c273-e10bcbb41570"
      },
      "execution_count": 24,
      "outputs": [
        {
          "output_type": "stream",
          "name": "stdout",
          "text": [
            "1/1 [==============================] - 0s 22ms/step\n",
            "Postive Sentiment\n"
          ]
        }
      ]
    },
    {
      "cell_type": "code",
      "source": [],
      "metadata": {
        "id": "Y4cYsflVKrOP"
      },
      "execution_count": null,
      "outputs": []
    }
  ]
}